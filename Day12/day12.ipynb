{
 "cells": [
  {
   "cell_type": "code",
   "execution_count": 2,
   "metadata": {},
   "outputs": [
    {
     "name": "stdout",
     "output_type": "stream",
     "text": [
      "{\"name\": \"Dhananj\", \"age\": 21}\n",
      "[\"art\", \"sketching\"]\n",
      "[\"pets\", \"music\"]\n",
      "\"Hi!I am Raja\"\n",
      "4098\n",
      "7.09\n",
      "true\n",
      "false\n",
      "null\n"
     ]
    }
   ],
   "source": [
    "import json\n",
    "\n",
    "print(json.dumps({\"name\": \"Dhananj\", \"age\": 21})) #dict object type\n",
    "print(json.dumps([\"art\", \"sketching\"]))        #list object type\n",
    "print(json.dumps((\"pets\", \"music\")))           #tuple object type\n",
    "print(json.dumps(\"Hi!I am Raja\"))                     #string object type\n",
    "print(json.dumps(4098))                          #int object type\n",
    "print(json.dumps(07.09))                       #float object type\n",
    "print(json.dumps(True))                        #true object type\n",
    "print(json.dumps(False))                       #false object type\n",
    "print(json.dumps(None))                        #none object type"
   ]
  },
  {
   "cell_type": "code",
   "execution_count": null,
   "metadata": {},
   "outputs": [],
   "source": []
  }
 ],
 "metadata": {
  "kernelspec": {
   "display_name": "Python 3",
   "language": "python",
   "name": "python3"
  },
  "language_info": {
   "codemirror_mode": {
    "name": "ipython",
    "version": 3
   },
   "file_extension": ".py",
   "mimetype": "text/x-python",
   "name": "python",
   "nbconvert_exporter": "python",
   "pygments_lexer": "ipython3",
   "version": "3.8.5"
  }
 },
 "nbformat": 4,
 "nbformat_minor": 4
}
